{
 "cells": [
  {
   "cell_type": "code",
   "execution_count": 1,
   "metadata": {
    "collapsed": false
   },
   "outputs": [],
   "source": [
    "# import\n",
    "import numpy as np # linear algebra\n",
    "import pandas as pd # data processing, CSV file I/O (e.g. pd.read_csv)import re\n",
    "import fnmatch    # for later text matching\n",
    "import matplotlib.pyplot as plt    # for plotting\n",
    "import bokeh\n",
    "from IPython.display import HTML\n",
    "from IPython.core.display import display, HTML\n",
    "import json\n",
    "\n",
    "from IPython.core.display import HTML\n"
   ]
  },
  {
   "cell_type": "code",
   "execution_count": 2,
   "metadata": {
    "collapsed": true
   },
   "outputs": [],
   "source": [
    "import random\n",
    "import inspect, os\n",
    "from string import Template\n",
    "\n",
    "\n",
    "def this_dir():\n",
    "    this_file = inspect.getfile(inspect.currentframe())\n",
    "    return os.path.dirname(os.path.abspath(inspect.getfile(inspect.currentframe())))\n",
    "\n",
    "\n",
    "def set_styles(css_file_names):\n",
    "    if type(css_file_names) == str:\n",
    "        style = open(this_dir() + '/css/' + css_file_names + '.css','r').read()\n",
    "    else:\n",
    "        style = ''\n",
    "        for css_file_name in css_file_names:\n",
    "            style += open(this_dir() + '/css/' + css_file_name + '.css','r').read()\n",
    "    return \"<style>\" + style + \"</style>\"\n",
    "\n",
    "\n",
    "def draw_graph(type, data_dict):\n",
    "\n",
    "    JS_text = Template('''\n",
    "    \n",
    "                <div id='maindiv${divnum}'></div>\n",
    "                \n",
    "                <script>\n",
    "                    $main_text\n",
    "                </script>\n",
    "                ''')\n",
    "\n",
    "    divnum = int(random.uniform(0,9999999999))\n",
    "    data_dict['divnum'] = divnum\n",
    "    main_text_template = Template( open(this_dir() + '/js/' + type + '.js','r').read() )\n",
    "    main_text = main_text_template.safe_substitute(data_dict)\n",
    "\n",
    "    return JS_text.safe_substitute({'divnum': divnum, 'main_text': main_text})"
   ]
  },
  {
   "cell_type": "code",
   "execution_count": 23,
   "metadata": {
    "collapsed": false,
    "scrolled": false
   },
   "outputs": [],
   "source": [
    "colnames = ['Fit_Date', 'Leg_Dep_Date', 'Carrier_Code', 'Fit_Number', 'Leg_Orig_Apt', 'Leg_Dest_Apt', 'Leg_Orig_Port',\n",
    "         'Leg_Dest_Port', 'Sch_Dep_Datetime', 'Sch_Arv_Datetime', 'Act_Dep_Datetime', 'Act_Arv_Datetime', 'Ac_Type_Code'\n",
    "         'Ac_Regn_Num', 'Seat_Capacity', 'Ttl_Pax_Flown']\n",
    "\n",
    "dataset = pd.read_csv(\"CSV.csv\")\n",
    "cols = ['Leg Orig Apt', 'Leg Dest Apt', 'Leg Dep Date' ]\n",
    "dataset = dataset[cols]\n",
    "dataset.cols  = ['origin', 'destination', 'date']\n",
    "\n",
    "dataset = dataset.rename(index=str, columns={\"Leg Orig Apt\": \"origin\", \"Leg Dest Apt\": \"destination\", 'Leg Dep Date':'date'})\n",
    "n_nodes = list(set(list(dataset.origin) + list(dataset.destination)))\n",
    "\n",
    "dataset['value'] = 1\n",
    "\n",
    "dataset = dataset[['origin','destination','value']].groupby(['origin','destination']).sum().reset_index()"
   ]
  },
  {
   "cell_type": "code",
   "execution_count": null,
   "metadata": {
    "collapsed": false
   },
   "outputs": [],
   "source": []
  },
  {
   "cell_type": "code",
   "execution_count": 24,
   "metadata": {
    "collapsed": false
   },
   "outputs": [
    {
     "data": {
      "text/html": [
       "<div>\n",
       "<table border=\"1\" class=\"dataframe\">\n",
       "  <thead>\n",
       "    <tr style=\"text-align: right;\">\n",
       "      <th></th>\n",
       "      <th>origin</th>\n",
       "      <th>destination</th>\n",
       "      <th>value</th>\n",
       "    </tr>\n",
       "  </thead>\n",
       "  <tbody>\n",
       "    <tr>\n",
       "      <th>0</th>\n",
       "      <td>ADL</td>\n",
       "      <td>HKG</td>\n",
       "      <td>148</td>\n",
       "    </tr>\n",
       "    <tr>\n",
       "      <th>1</th>\n",
       "      <td>ADL</td>\n",
       "      <td>PER</td>\n",
       "      <td>1</td>\n",
       "    </tr>\n",
       "    <tr>\n",
       "      <th>2</th>\n",
       "      <td>AKL</td>\n",
       "      <td>HKG</td>\n",
       "      <td>319</td>\n",
       "    </tr>\n",
       "    <tr>\n",
       "      <th>3</th>\n",
       "      <td>AMS</td>\n",
       "      <td>HKG</td>\n",
       "      <td>236</td>\n",
       "    </tr>\n",
       "    <tr>\n",
       "      <th>4</th>\n",
       "      <td>ANC</td>\n",
       "      <td>HKG</td>\n",
       "      <td>1</td>\n",
       "    </tr>\n",
       "  </tbody>\n",
       "</table>\n",
       "</div>"
      ],
      "text/plain": [
       "  origin destination  value\n",
       "0    ADL         HKG    148\n",
       "1    ADL         PER      1\n",
       "2    AKL         HKG    319\n",
       "3    AMS         HKG    236\n",
       "4    ANC         HKG      1"
      ]
     },
     "execution_count": 24,
     "metadata": {},
     "output_type": "execute_result"
    }
   ],
   "source": [
    "dataset.head()"
   ]
  },
  {
   "cell_type": "code",
   "execution_count": 26,
   "metadata": {
    "collapsed": false
   },
   "outputs": [],
   "source": [
    "nodes=[]\n",
    "for elem in n_nodes:\n",
    "        nodes.append({'name': elem, 'group':n_nodes.index(elem)})\n",
    "        \n",
    "graph = {\"nodes\": nodes, \"links\": []}\n",
    "\n",
    "for index , row in dataset.iterrows():\n",
    "    graph[\"links\"].append( {\n",
    "        \"source\": n_nodes.index(row['origin']), \n",
    "        \"target\": n_nodes.index(row['destination']), \n",
    "        \"value\": row['value']\n",
    "    } )\n",
    "    \n",
    "    \n",
    "   "
   ]
  },
  {
   "cell_type": "code",
   "execution_count": 30,
   "metadata": {
    "collapsed": false
   },
   "outputs": [
    {
     "data": {
      "application/javascript": [
       "require.config({\n",
       "  paths: {\n",
       "    d3: \"http://d3js.org/d3.v3.min\"\n",
       "  }\n",
       "});"
      ],
      "text/plain": [
       "<IPython.core.display.Javascript object>"
      ]
     },
     "metadata": {},
     "output_type": "display_data"
    }
   ],
   "source": [
    "%%javascript\n",
    "require.config({\n",
    "  paths: {\n",
    "    d3: \"http://d3js.org/d3.v3.min\"\n",
    "  }\n",
    "});"
   ]
  },
  {
   "cell_type": "code",
   "execution_count": 31,
   "metadata": {
    "collapsed": false
   },
   "outputs": [
    {
     "data": {
      "text/html": [
       "<style>\n",
       "/* http://bl.ocks.org/mbostock/4062045 */\n",
       "\n",
       ".node {\n",
       "  stroke: #fff;\n",
       "  stroke-width: 1.5px;\n",
       "}\n",
       "\n",
       ".link {\n",
       "  stroke: #999;\n",
       "  stroke-opacity: .6;\n",
       "}\n",
       "\n",
       "</style><script src=\"lib/d3/d3.min.js\"></script>\n",
       "    \n",
       "                <div id='maindiv1788683349'></div>\n",
       "                \n",
       "                <script>\n",
       "                    \n",
       "// Based on http://bl.ocks.org/mbostock/4062045\n",
       "\n",
       "require([\"d3\"], function(d3) {\n",
       "var width = 1080,\n",
       "    height = 700;\n",
       "\n",
       "var color = d3.scale.category20();\n",
       "\n",
       "var force = d3.layout.force()\n",
       "    .charge(-300)\n",
       "    .size([width, height]);\n",
       "\n",
       "d3.select(\"#maindiv1788683349\").selectAll(\"svg\").remove();\n",
       "var svg = d3.select(\"#maindiv1788683349\").append(\"svg\")\n",
       "    .attr(\"width\", width)\n",
       "    .attr(\"height\", height);\n",
       "    \n",
       "var graph = {'nodes': [{'group': 0, 'name': 'JFK'}, {'group': 1, 'name': 'CPH'}, {'group': 2, 'name': 'LIM'}, {'group': 3, 'name': 'BOS'}, {'group': 4, 'name': 'DRW'}, {'group': 5, 'name': 'BOM'}, {'group': 6, 'name': 'SIN'}, {'group': 7, 'name': 'HND'}, {'group': 8, 'name': 'KHH'}, {'group': 9, 'name': 'TAO'}, {'group': 10, 'name': 'HKG'}, {'group': 11, 'name': 'TPE'}, {'group': 12, 'name': 'YVR'}, {'group': 13, 'name': 'LHR'}, {'group': 14, 'name': 'BNE'}, {'group': 15, 'name': 'SYA'}, {'group': 16, 'name': 'KIX'}, {'group': 17, 'name': 'SYD'}, {'group': 18, 'name': 'MAA'}, {'group': 19, 'name': 'JNB'}, {'group': 20, 'name': 'LAX'}, {'group': 21, 'name': 'MZJ'}, {'group': 22, 'name': 'PAE'}, {'group': 23, 'name': 'DME'}, {'group': 24, 'name': 'NGB'}, {'group': 25, 'name': 'PEK'}, {'group': 26, 'name': 'CMB'}, {'group': 27, 'name': 'DEL'}, {'group': 28, 'name': 'FJR'}, {'group': 29, 'name': 'CRK'}, {'group': 30, 'name': 'FUK'}, {'group': 31, 'name': 'ICN'}, {'group': 32, 'name': 'SCL'}, {'group': 33, 'name': 'CEB'}, {'group': 34, 'name': 'LDE'}, {'group': 35, 'name': 'SFO'}, {'group': 36, 'name': 'MFM'}, {'group': 37, 'name': 'SZX'}, {'group': 38, 'name': 'MNL'}, {'group': 39, 'name': 'WNZ'}, {'group': 40, 'name': 'AMS'}, {'group': 41, 'name': 'BLR'}, {'group': 42, 'name': 'FOC'}, {'group': 43, 'name': 'EWR'}, {'group': 44, 'name': 'CJU'}, {'group': 45, 'name': 'ANC'}, {'group': 46, 'name': 'MXP'}, {'group': 47, 'name': 'OKJ'}, {'group': 48, 'name': 'KMG'}, {'group': 49, 'name': 'DOH'}, {'group': 50, 'name': 'SUB'}, {'group': 51, 'name': 'CTS'}, {'group': 52, 'name': 'PER'}, {'group': 53, 'name': 'PEN'}, {'group': 54, 'name': 'KUL'}, {'group': 55, 'name': 'AKL'}, {'group': 56, 'name': 'HYD'}, {'group': 57, 'name': 'CGK'}, {'group': 58, 'name': 'RMQ'}, {'group': 59, 'name': 'BKK'}, {'group': 60, 'name': 'PVG'}, {'group': 61, 'name': 'VCV'}, {'group': 62, 'name': 'FCO'}, {'group': 63, 'name': 'FRA'}, {'group': 64, 'name': 'NGO'}, {'group': 65, 'name': 'DMM'}, {'group': 66, 'name': 'ADL'}, {'group': 67, 'name': 'DUS'}, {'group': 68, 'name': 'LEA'}, {'group': 69, 'name': 'RUH'}, {'group': 70, 'name': 'CDG'}, {'group': 71, 'name': 'MEL'}, {'group': 72, 'name': 'YYZ'}, {'group': 73, 'name': 'ORD'}, {'group': 74, 'name': 'PUS'}, {'group': 75, 'name': 'DPS'}, {'group': 76, 'name': 'XMN'}, {'group': 77, 'name': 'YWG'}, {'group': 78, 'name': 'CAN'}, {'group': 79, 'name': 'BAH'}, {'group': 80, 'name': 'DAD'}, {'group': 81, 'name': 'DAC'}, {'group': 82, 'name': 'XXX'}, {'group': 83, 'name': 'SGN'}, {'group': 84, 'name': 'HIJ'}, {'group': 85, 'name': 'CNS'}, {'group': 86, 'name': 'MLE'}, {'group': 87, 'name': 'KTM'}, {'group': 88, 'name': 'TSE'}, {'group': 89, 'name': 'HGH'}, {'group': 90, 'name': 'ZRH'}, {'group': 91, 'name': 'LGK'}, {'group': 92, 'name': 'NKG'}, {'group': 93, 'name': 'OOL'}, {'group': 94, 'name': 'MAN'}, {'group': 95, 'name': 'DXB'}, {'group': 96, 'name': 'NRT'}], 'links': [{'source': 66, 'target': 10, 'value': 148}, {'source': 66, 'target': 52, 'value': 1}, {'source': 55, 'target': 10, 'value': 319}, {'source': 40, 'target': 10, 'value': 236}, {'source': 45, 'target': 10, 'value': 1}, {'source': 45, 'target': 20, 'value': 1}, {'source': 79, 'target': 65, 'value': 237}, {'source': 79, 'target': 95, 'value': 233}, {'source': 79, 'target': 62, 'value': 1}, {'source': 59, 'target': 26, 'value': 49}, {'source': 59, 'target': 10, 'value': 1948}, {'source': 59, 'target': 6, 'value': 238}, {'source': 41, 'target': 10, 'value': 1}, {'source': 14, 'target': 85, 'value': 136}, {'source': 14, 'target': 10, 'value': 237}, {'source': 5, 'target': 27, 'value': 1}, {'source': 5, 'target': 10, 'value': 332}, {'source': 5, 'target': 8, 'value': 1}, {'source': 3, 'target': 10, 'value': 134}, {'source': 3, 'target': 31, 'value': 1}, {'source': 78, 'target': 10, 'value': 1}, {'source': 70, 'target': 10, 'value': 331}, {'source': 33, 'target': 10, 'value': 323}, {'source': 33, 'target': 38, 'value': 1}, {'source': 57, 'target': 75, 'value': 1}, {'source': 57, 'target': 10, 'value': 811}, {'source': 44, 'target': 74, 'value': 1}, {'source': 26, 'target': 59, 'value': 50}, {'source': 26, 'target': 10, 'value': 190}, {'source': 85, 'target': 14, 'value': 135}, {'source': 85, 'target': 10, 'value': 139}, {'source': 1, 'target': 13, 'value': 1}, {'source': 29, 'target': 38, 'value': 4}, {'source': 51, 'target': 10, 'value': 321}, {'source': 51, 'target': 16, 'value': 1}, {'source': 51, 'target': 64, 'value': 1}, {'source': 51, 'target': 11, 'value': 1}, {'source': 81, 'target': 10, 'value': 5}, {'source': 81, 'target': 87, 'value': 105}, {'source': 80, 'target': 36, 'value': 1}, {'source': 80, 'target': 83, 'value': 2}, {'source': 27, 'target': 59, 'value': 2}, {'source': 27, 'target': 10, 'value': 471}, {'source': 23, 'target': 13, 'value': 1}, {'source': 65, 'target': 79, 'value': 237}, {'source': 49, 'target': 10, 'value': 230}, {'source': 75, 'target': 10, 'value': 246}, {'source': 4, 'target': 10, 'value': 1}, {'source': 67, 'target': 10, 'value': 99}, {'source': 95, 'target': 79, 'value': 236}, {'source': 95, 'target': 10, 'value': 473}, {'source': 43, 'target': 10, 'value': 210}, {'source': 62, 'target': 10, 'value': 183}, {'source': 28, 'target': 95, 'value': 1}, {'source': 42, 'target': 39, 'value': 1}, {'source': 42, 'target': 76, 'value': 1}, {'source': 63, 'target': 40, 'value': 1}, {'source': 63, 'target': 10, 'value': 233}, {'source': 63, 'target': 88, 'value': 1}, {'source': 30, 'target': 16, 'value': 1}, {'source': 30, 'target': 11, 'value': 237}, {'source': 89, 'target': 36, 'value': 1}, {'source': 89, 'target': 24, 'value': 1}, {'source': 89, 'target': 37, 'value': 1}, {'source': 84, 'target': 76, 'value': 1}, {'source': 10, 'target': 66, 'value': 148}, {'source': 10, 'target': 55, 'value': 320}, {'source': 10, 'target': 40, 'value': 235}, {'source': 10, 'target': 45, 'value': 1}, {'source': 10, 'target': 79, 'value': 2}, {'source': 10, 'target': 59, 'value': 1942}, {'source': 10, 'target': 14, 'value': 237}, {'source': 10, 'target': 5, 'value': 334}, {'source': 10, 'target': 3, 'value': 135}, {'source': 10, 'target': 70, 'value': 331}, {'source': 10, 'target': 33, 'value': 324}, {'source': 10, 'target': 57, 'value': 812}, {'source': 10, 'target': 44, 'value': 1}, {'source': 10, 'target': 26, 'value': 190}, {'source': 10, 'target': 85, 'value': 138}, {'source': 10, 'target': 1, 'value': 1}, {'source': 10, 'target': 29, 'value': 4}, {'source': 10, 'target': 51, 'value': 323}, {'source': 10, 'target': 80, 'value': 2}, {'source': 10, 'target': 27, 'value': 472}, {'source': 10, 'target': 23, 'value': 1}, {'source': 10, 'target': 49, 'value': 229}, {'source': 10, 'target': 75, 'value': 243}, {'source': 10, 'target': 67, 'value': 100}, {'source': 10, 'target': 95, 'value': 472}, {'source': 10, 'target': 43, 'value': 210}, {'source': 10, 'target': 62, 'value': 182}, {'source': 10, 'target': 28, 'value': 1}, {'source': 10, 'target': 42, 'value': 1}, {'source': 10, 'target': 63, 'value': 234}, {'source': 10, 'target': 89, 'value': 1}, {'source': 10, 'target': 7, 'value': 473}, {'source': 10, 'target': 56, 'value': 129}, {'source': 10, 'target': 31, 'value': 1022}, {'source': 10, 'target': 0, 'value': 691}, {'source': 10, 'target': 19, 'value': 237}, {'source': 10, 'target': 8, 'value': 5}, {'source': 10, 'target': 16, 'value': 1115}, {'source': 10, 'target': 54, 'value': 898}, {'source': 10, 'target': 20, 'value': 881}, {'source': 10, 'target': 34, 'value': 2}, {'source': 10, 'target': 68, 'value': 1}, {'source': 10, 'target': 91, 'value': 1}, {'source': 10, 'target': 13, 'value': 1152}, {'source': 10, 'target': 18, 'value': 233}, {'source': 10, 'target': 94, 'value': 135}, {'source': 10, 'target': 71, 'value': 712}, {'source': 10, 'target': 86, 'value': 136}, {'source': 10, 'target': 38, 'value': 1560}, {'source': 10, 'target': 46, 'value': 234}, {'source': 10, 'target': 64, 'value': 454}, {'source': 10, 'target': 96, 'value': 934}, {'source': 10, 'target': 47, 'value': 2}, {'source': 10, 'target': 93, 'value': 3}, {'source': 10, 'target': 73, 'value': 236}, {'source': 10, 'target': 25, 'value': 468}, {'source': 10, 'target': 53, 'value': 1}, {'source': 10, 'target': 52, 'value': 337}, {'source': 10, 'target': 60, 'value': 689}, {'source': 10, 'target': 69, 'value': 140}, {'source': 10, 'target': 35, 'value': 576}, {'source': 10, 'target': 83, 'value': 561}, {'source': 10, 'target': 6, 'value': 1903}, {'source': 10, 'target': 50, 'value': 239}, {'source': 10, 'target': 15, 'value': 1}, {'source': 10, 'target': 17, 'value': 948}, {'source': 10, 'target': 11, 'value': 3664}, {'source': 10, 'target': 39, 'value': 1}, {'source': 10, 'target': 76, 'value': 35}, {'source': 10, 'target': 82, 'value': 90}, {'source': 10, 'target': 12, 'value': 462}, {'source': 10, 'target': 77, 'value': 1}, {'source': 10, 'target': 72, 'value': 346}, {'source': 10, 'target': 90, 'value': 236}, {'source': 7, 'target': 10, 'value': 472}, {'source': 7, 'target': 16, 'value': 1}, {'source': 56, 'target': 10, 'value': 129}, {'source': 31, 'target': 10, 'value': 1020}, {'source': 31, 'target': 8, 'value': 1}, {'source': 31, 'target': 36, 'value': 1}, {'source': 31, 'target': 74, 'value': 1}, {'source': 31, 'target': 11, 'value': 219}, {'source': 0, 'target': 10, 'value': 692}, {'source': 0, 'target': 2, 'value': 146}, {'source': 0, 'target': 25, 'value': 1}, {'source': 0, 'target': 12, 'value': 237}, {'source': 19, 'target': 59, 'value': 3}, {'source': 19, 'target': 26, 'value': 1}, {'source': 19, 'target': 10, 'value': 232}, {'source': 19, 'target': 8, 'value': 1}, {'source': 8, 'target': 10, 'value': 7}, {'source': 8, 'target': 58, 'value': 2}, {'source': 8, 'target': 11, 'value': 4}, {'source': 16, 'target': 30, 'value': 1}, {'source': 16, 'target': 10, 'value': 1118}, {'source': 16, 'target': 64, 'value': 1}, {'source': 16, 'target': 11, 'value': 238}, {'source': 16, 'target': 72, 'value': 1}, {'source': 48, 'target': 76, 'value': 1}, {'source': 87, 'target': 81, 'value': 132}, {'source': 54, 'target': 78, 'value': 1}, {'source': 54, 'target': 10, 'value': 898}, {'source': 54, 'target': 37, 'value': 1}, {'source': 20, 'target': 10, 'value': 883}, {'source': 20, 'target': 31, 'value': 1}, {'source': 20, 'target': 2, 'value': 237}, {'source': 20, 'target': 21, 'value': 1}, {'source': 20, 'target': 11, 'value': 1}, {'source': 68, 'target': 52, 'value': 1}, {'source': 91, 'target': 54, 'value': 1}, {'source': 13, 'target': 10, 'value': 1153}, {'source': 13, 'target': 8, 'value': 1}, {'source': 2, 'target': 0, 'value': 147}, {'source': 2, 'target': 20, 'value': 237}, {'source': 2, 'target': 32, 'value': 383}, {'source': 18, 'target': 41, 'value': 1}, {'source': 18, 'target': 10, 'value': 233}, {'source': 94, 'target': 10, 'value': 135}, {'source': 71, 'target': 4, 'value': 1}, {'source': 71, 'target': 10, 'value': 709}, {'source': 71, 'target': 17, 'value': 1}, {'source': 36, 'target': 10, 'value': 6}, {'source': 86, 'target': 59, 'value': 1}, {'source': 86, 'target': 10, 'value': 135}, {'source': 38, 'target': 29, 'value': 1}, {'source': 38, 'target': 10, 'value': 1567}, {'source': 46, 'target': 10, 'value': 234}, {'source': 64, 'target': 10, 'value': 456}, {'source': 64, 'target': 11, 'value': 237}, {'source': 92, 'target': 36, 'value': 1}, {'source': 96, 'target': 10, 'value': 935}, {'source': 96, 'target': 8, 'value': 2}, {'source': 96, 'target': 11, 'value': 236}, {'source': 47, 'target': 10, 'value': 2}, {'source': 93, 'target': 10, 'value': 3}, {'source': 73, 'target': 10, 'value': 234}, {'source': 73, 'target': 16, 'value': 1}, {'source': 73, 'target': 36, 'value': 1}, {'source': 22, 'target': 10, 'value': 2}, {'source': 25, 'target': 63, 'value': 1}, {'source': 25, 'target': 10, 'value': 468}, {'source': 25, 'target': 8, 'value': 1}, {'source': 25, 'target': 76, 'value': 1}, {'source': 53, 'target': 54, 'value': 1}, {'source': 52, 'target': 75, 'value': 1}, {'source': 52, 'target': 10, 'value': 337}, {'source': 52, 'target': 38, 'value': 1}, {'source': 60, 'target': 10, 'value': 689}, {'source': 60, 'target': 8, 'value': 1}, {'source': 60, 'target': 37, 'value': 1}, {'source': 69, 'target': 10, 'value': 140}, {'source': 32, 'target': 2, 'value': 384}, {'source': 35, 'target': 10, 'value': 575}, {'source': 35, 'target': 20, 'value': 1}, {'source': 35, 'target': 96, 'value': 1}, {'source': 35, 'target': 11, 'value': 1}, {'source': 83, 'target': 10, 'value': 564}, {'source': 6, 'target': 59, 'value': 237}, {'source': 6, 'target': 10, 'value': 1904}, {'source': 50, 'target': 10, 'value': 241}, {'source': 15, 'target': 45, 'value': 1}, {'source': 17, 'target': 55, 'value': 1}, {'source': 17, 'target': 10, 'value': 945}, {'source': 17, 'target': 38, 'value': 2}, {'source': 17, 'target': 11, 'value': 1}, {'source': 37, 'target': 10, 'value': 3}, {'source': 9, 'target': 60, 'value': 1}, {'source': 11, 'target': 30, 'value': 237}, {'source': 11, 'target': 10, 'value': 3670}, {'source': 11, 'target': 31, 'value': 219}, {'source': 11, 'target': 8, 'value': 1}, {'source': 11, 'target': 16, 'value': 238}, {'source': 11, 'target': 20, 'value': 1}, {'source': 11, 'target': 64, 'value': 238}, {'source': 11, 'target': 96, 'value': 238}, {'source': 88, 'target': 10, 'value': 1}, {'source': 39, 'target': 60, 'value': 1}, {'source': 76, 'target': 10, 'value': 38}, {'source': 76, 'target': 20, 'value': 1}, {'source': 76, 'target': 36, 'value': 1}, {'source': 76, 'target': 61, 'value': 1}, {'source': 12, 'target': 51, 'value': 1}, {'source': 12, 'target': 10, 'value': 458}, {'source': 12, 'target': 0, 'value': 237}, {'source': 12, 'target': 16, 'value': 1}, {'source': 12, 'target': 11, 'value': 2}, {'source': 77, 'target': 72, 'value': 1}, {'source': 72, 'target': 10, 'value': 347}, {'source': 72, 'target': 0, 'value': 1}, {'source': 90, 'target': 10, 'value': 236}, {'source': 90, 'target': 11, 'value': 1}]} ;\n",
       "\n",
       "  force\n",
       "      .nodes(graph.nodes)\n",
       "      .links(graph.links)\n",
       "      .start();\n",
       "\n",
       "  var link = svg.selectAll(\".link\")\n",
       "      .data(graph.links)\n",
       "    .enter().append(\"line\")\n",
       "      .attr(\"class\", \"link\")\n",
       "      .style(\"stroke-width\", function(d) { return Math.sqrt(d.value); });\n",
       "\n",
       "  var node = svg.selectAll(\".node\")\n",
       "      .data(graph.nodes)\n",
       "    .enter().append(\"circle\")\n",
       "      .attr(\"class\", \"node\")\n",
       "      .attr(\"r\", 8)\n",
       "      .style(\"fill\", function(d) { return color(d.group); })\n",
       "      .call(force.drag);\n",
       "\n",
       "  node.append(\"title\")\n",
       "      .text(function(d) { return d.name; });\n",
       "\n",
       "  force.on(\"tick\", function() {\n",
       "    link.attr(\"x1\", function(d) { return d.source.x; })\n",
       "        .attr(\"y1\", function(d) { return d.source.y; })\n",
       "        .attr(\"x2\", function(d) { return d.target.x; })\n",
       "        .attr(\"y2\", function(d) { return d.target.y; });\n",
       "\n",
       "    node.attr(\"cx\", function(d) { return d.x; })\n",
       "        .attr(\"cy\", function(d) { return d.y; });\n",
       "  });\n",
       "  \n",
       "});\n",
       "\n",
       "\n",
       "                </script>\n",
       "                "
      ],
      "text/plain": [
       "<IPython.core.display.HTML object>"
      ]
     },
     "execution_count": 31,
     "metadata": {},
     "output_type": "execute_result"
    }
   ],
   "source": [
    "HTML( set_styles(['force_directed_graph']) \\\n",
    "        + '<script src=\"lib/d3/d3.min.js\"></script>' \\\n",
    "        +  draw_graph('force_directed_graph', {'data': graph}) \n",
    ")"
   ]
  },
  {
   "cell_type": "code",
   "execution_count": 8,
   "metadata": {
    "collapsed": false,
    "scrolled": false
   },
   "outputs": [],
   "source": [
    "\n",
    "# construct graph as a set of nodes and links between them\n",
    "n_nodes = 30\n",
    "p_edge = 0.05\n",
    "graph = {\"nodes\": [], \"links\": []}\n",
    "for i in range(n_nodes):\n",
    "    graph[\"nodes\"].append( {\"name\": \"i\" + str(i), \"group\": int(random.uniform(1,11))} )\n",
    "for i in range(n_nodes):\n",
    "    for j in range(n_nodes):\n",
    "        if random.uniform(0,1) < p_edge and i != j:\n",
    "            graph[\"links\"].append( {\"source\": i, \"target\": j,\n",
    "                             \"value\": random.uniform(0.5,3)} )"
   ]
  },
  {
   "cell_type": "code",
   "execution_count": null,
   "metadata": {
    "collapsed": false,
    "scrolled": false
   },
   "outputs": [],
   "source": []
  },
  {
   "cell_type": "code",
   "execution_count": null,
   "metadata": {
    "collapsed": false,
    "scrolled": false
   },
   "outputs": [],
   "source": []
  },
  {
   "cell_type": "code",
   "execution_count": null,
   "metadata": {
    "collapsed": true
   },
   "outputs": [],
   "source": []
  },
  {
   "cell_type": "code",
   "execution_count": null,
   "metadata": {
    "collapsed": true
   },
   "outputs": [],
   "source": []
  },
  {
   "cell_type": "code",
   "execution_count": null,
   "metadata": {
    "collapsed": true
   },
   "outputs": [],
   "source": []
  }
 ],
 "metadata": {
  "kernelspec": {
   "display_name": "Python 2",
   "language": "python",
   "name": "python2"
  },
  "language_info": {
   "codemirror_mode": {
    "name": "ipython",
    "version": 2
   },
   "file_extension": ".py",
   "mimetype": "text/x-python",
   "name": "python",
   "nbconvert_exporter": "python",
   "pygments_lexer": "ipython2",
   "version": "2.7.13"
  }
 },
 "nbformat": 4,
 "nbformat_minor": 2
}
